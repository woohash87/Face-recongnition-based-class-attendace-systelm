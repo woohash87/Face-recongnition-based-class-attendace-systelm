{
  "cells": [
    {
      "cell_type": "code",
      "execution_count": null,
      "id": "4b7b9dd5",
      "metadata": {
        "colab": {
          "base_uri": "https://localhost:8080/"
        },
        "id": "4b7b9dd5",
        "outputId": "e6eb8e3a-2ee4-4014-8cc0-368197f51922"
      },
      "outputs": [
        {
          "name": "stdout",
          "output_type": "stream",
          "text": [
            "\r0% [Working]\r            \rGet:1 https://cloud.r-project.org/bin/linux/ubuntu jammy-cran40/ InRelease [3,626 B]\n",
            "\r0% [Connecting to archive.ubuntu.com] [Waiting for headers] [1 InRelease 0 B/3,626 B 0%] [Connecting\r0% [Connecting to archive.ubuntu.com] [Waiting for headers] [Connecting to ppa.launchpadcontent.net \r                                                                                                    \rHit:2 https://developer.download.nvidia.com/compute/cuda/repos/ubuntu2204/x86_64  InRelease\n",
            "Get:3 http://security.ubuntu.com/ubuntu jammy-security InRelease [110 kB]\n",
            "Hit:4 http://archive.ubuntu.com/ubuntu jammy InRelease\n",
            "Get:5 https://cloud.r-project.org/bin/linux/ubuntu jammy-cran40/ Packages [52.9 kB]\n",
            "Get:6 http://archive.ubuntu.com/ubuntu jammy-updates InRelease [119 kB]\n",
            "Get:7 http://archive.ubuntu.com/ubuntu jammy-backports InRelease [109 kB]\n",
            "Hit:8 https://ppa.launchpadcontent.net/c2d4u.team/c2d4u4.0+/ubuntu jammy InRelease\n",
            "Get:9 http://security.ubuntu.com/ubuntu jammy-security/universe amd64 Packages [1,077 kB]\n",
            "Hit:10 https://ppa.launchpadcontent.net/deadsnakes/ppa/ubuntu jammy InRelease\n",
            "Get:11 http://archive.ubuntu.com/ubuntu jammy-updates/universe amd64 Packages [1,370 kB]\n",
            "Get:12 http://security.ubuntu.com/ubuntu jammy-security/main amd64 Packages [1,755 kB]\n",
            "Get:13 https://ppa.launchpadcontent.net/graphics-drivers/ppa/ubuntu jammy InRelease [24.3 kB]\n",
            "Get:14 http://archive.ubuntu.com/ubuntu jammy-updates/main amd64 Packages [2,035 kB]\n",
            "Hit:15 https://ppa.launchpadcontent.net/ubuntugis/ppa/ubuntu jammy InRelease\n",
            "Get:16 https://ppa.launchpadcontent.net/graphics-drivers/ppa/ubuntu jammy/main amd64 Packages [44.2 kB]\n",
            "Fetched 6,700 kB in 2s (3,571 kB/s)\n",
            "Reading package lists... Done\n",
            "Reading package lists... Done\n",
            "Building dependency tree... Done\n",
            "Reading state information... Done\n",
            "The following additional packages will be installed:\n",
            "  cpp-12 dctrl-tools dkms fakeroot gcc-12 keyboard-configuration libasan8 libfakeroot libfontenc1\n",
            "  libgcc-12-dev libjansson4 liblocale-gettext-perl libnvidia-cfg1-470 libnvidia-common-470\n",
            "  libnvidia-compute-470 libnvidia-decode-470 libnvidia-egl-wayland1 libnvidia-encode-470\n",
            "  libnvidia-extra-470 libnvidia-fbc1-470 libnvidia-gl-470 libnvidia-ifr1-470 libtsan2 libudev1\n",
            "  libxcvt0 libxfont2 libxkbfile1 nvidia-compute-utils-470 nvidia-dkms-470 nvidia-kernel-common-470\n",
            "  nvidia-kernel-source-470 nvidia-prime nvidia-settings nvidia-utils-470 python3-xkit\n",
            "  screen-resolution-extra systemd-hwe-hwdb udev x11-xkb-utils xcvt xfonts-base xfonts-encodings\n",
            "  xfonts-utils xserver-common xserver-xorg-core xserver-xorg-video-nvidia-470\n",
            "Suggested packages:\n",
            "  gcc-12-locales cpp-12-doc debtags menu gcc-12-multilib gcc-12-doc xfs | xserver xfonts-100dpi\n",
            "  | xfonts-75dpi xfonts-scalable\n",
            "Recommended packages:\n",
            "  libnvidia-compute-470:i386 libnvidia-decode-470:i386 libnvidia-encode-470:i386\n",
            "  libnvidia-ifr1-470:i386 libnvidia-fbc1-470:i386 libnvidia-gl-470:i386\n",
            "The following NEW packages will be installed:\n",
            "  cpp-12 dctrl-tools dkms fakeroot gcc-12 keyboard-configuration libasan8 libfakeroot libfontenc1\n",
            "  libgcc-12-dev libjansson4 liblocale-gettext-perl libnvidia-cfg1-470 libnvidia-common-470\n",
            "  libnvidia-compute-470 libnvidia-decode-470 libnvidia-egl-wayland1 libnvidia-encode-470\n",
            "  libnvidia-extra-470 libnvidia-fbc1-470 libnvidia-gl-470 libnvidia-ifr1-470 libtsan2 libxcvt0\n",
            "  libxfont2 libxkbfile1 nvidia-compute-utils-470 nvidia-dkms-470 nvidia-driver-470\n",
            "  nvidia-kernel-common-470 nvidia-kernel-source-470 nvidia-prime nvidia-settings nvidia-utils-470\n",
            "  python3-xkit screen-resolution-extra systemd-hwe-hwdb udev x11-xkb-utils xcvt xfonts-base\n",
            "  xfonts-encodings xfonts-utils xserver-common xserver-xorg-core xserver-xorg-video-nvidia-470\n",
            "The following packages will be upgraded:\n",
            "  libudev1\n",
            "1 upgraded, 46 newly installed, 0 to remove and 49 not upgraded.\n",
            "Need to get 286 MB of archives.\n",
            "After this operation, 759 MB of additional disk space will be used.\n",
            "Get:1 https://developer.download.nvidia.com/compute/cuda/repos/ubuntu2204/x86_64  nvidia-settings 550.54.15-0ubuntu1 [947 kB]\n",
            "Get:2 http://archive.ubuntu.com/ubuntu jammy/main amd64 liblocale-gettext-perl amd64 1.07-4build3 [17.1 kB]\n",
            "Get:3 http://archive.ubuntu.com/ubuntu jammy/main amd64 keyboard-configuration all 1.205ubuntu3 [206 kB]\n",
            "Get:4 http://archive.ubuntu.com/ubuntu jammy-updates/main amd64 cpp-12 amd64 12.3.0-1ubuntu1~22.04 [10.8 MB]\n",
            "Get:5 http://archive.ubuntu.com/ubuntu jammy-updates/main amd64 libasan8 amd64 12.3.0-1ubuntu1~22.04 [2,442 kB]\n",
            "Get:6 http://archive.ubuntu.com/ubuntu jammy-updates/main amd64 libtsan2 amd64 12.3.0-1ubuntu1~22.04 [2,477 kB]\n",
            "Get:7 http://archive.ubuntu.com/ubuntu jammy-updates/main amd64 libgcc-12-dev amd64 12.3.0-1ubuntu1~22.04 [2,618 kB]\n",
            "Get:8 http://archive.ubuntu.com/ubuntu jammy-updates/main amd64 gcc-12 amd64 12.3.0-1ubuntu1~22.04 [21.7 MB]\n",
            "Get:9 http://archive.ubuntu.com/ubuntu jammy/main amd64 dctrl-tools amd64 2.24-3build2 [66.9 kB]\n",
            "Get:10 http://archive.ubuntu.com/ubuntu jammy-updates/main amd64 dkms all 2.8.7-2ubuntu2.2 [70.1 kB]\n",
            "Get:11 http://archive.ubuntu.com/ubuntu jammy-updates/main amd64 libudev1 amd64 249.11-0ubuntu3.12 [78.2 kB]\n",
            "Get:12 http://archive.ubuntu.com/ubuntu jammy-updates/main amd64 udev amd64 249.11-0ubuntu3.12 [1,557 kB]\n",
            "Get:13 http://archive.ubuntu.com/ubuntu jammy/main amd64 libjansson4 amd64 2.13.1-1.1build3 [32.4 kB]\n",
            "Get:14 http://archive.ubuntu.com/ubuntu jammy/main amd64 libfakeroot amd64 1.28-1ubuntu1 [31.5 kB]\n",
            "Get:15 http://archive.ubuntu.com/ubuntu jammy/main amd64 fakeroot amd64 1.28-1ubuntu1 [60.4 kB]\n",
            "Get:16 http://archive.ubuntu.com/ubuntu jammy/main amd64 libfontenc1 amd64 1:1.1.4-1build3 [14.7 kB]\n",
            "Get:17 http://archive.ubuntu.com/ubuntu jammy-updates/restricted amd64 libnvidia-cfg1-470 amd64 470.239.06-0ubuntu0.22.04.1 [87.6 kB]\n",
            "Get:18 http://archive.ubuntu.com/ubuntu jammy-updates/restricted amd64 libnvidia-common-470 all 470.239.06-0ubuntu0.22.04.1 [10.0 kB]\n",
            "Get:19 http://archive.ubuntu.com/ubuntu jammy-updates/restricted amd64 libnvidia-compute-470 amd64 470.239.06-0ubuntu0.22.04.1 [34.7 MB]\n",
            "Get:20 http://archive.ubuntu.com/ubuntu jammy-updates/restricted amd64 libnvidia-decode-470 amd64 470.239.06-0ubuntu0.22.04.1 [1,563 kB]\n",
            "Get:21 http://archive.ubuntu.com/ubuntu jammy/main amd64 libnvidia-egl-wayland1 amd64 1:1.1.9-1.1 [26.1 kB]\n",
            "Get:22 http://archive.ubuntu.com/ubuntu jammy-updates/restricted amd64 libnvidia-encode-470 amd64 470.239.06-0ubuntu0.22.04.1 [45.3 kB]\n",
            "Get:23 http://archive.ubuntu.com/ubuntu jammy-updates/restricted amd64 libnvidia-extra-470 amd64 470.239.06-0ubuntu0.22.04.1 [47.1 kB]\n",
            "Get:24 http://archive.ubuntu.com/ubuntu jammy-updates/restricted amd64 libnvidia-fbc1-470 amd64 470.239.06-0ubuntu0.22.04.1 [50.4 kB]\n",
            "Get:25 http://archive.ubuntu.com/ubuntu jammy-updates/restricted amd64 libnvidia-gl-470 amd64 470.239.06-0ubuntu0.22.04.1 [152 MB]\n",
            "Get:26 http://archive.ubuntu.com/ubuntu jammy-updates/restricted amd64 libnvidia-ifr1-470 amd64 470.239.06-0ubuntu0.22.04.1 [74.4 kB]\n",
            "Get:27 http://archive.ubuntu.com/ubuntu jammy/main amd64 libxcvt0 amd64 0.1.1-3 [5,494 B]\n",
            "Get:28 http://archive.ubuntu.com/ubuntu jammy/main amd64 libxfont2 amd64 1:2.0.5-1build1 [94.5 kB]\n",
            "Get:29 http://archive.ubuntu.com/ubuntu jammy/main amd64 libxkbfile1 amd64 1:1.1.0-1build3 [71.8 kB]\n",
            "Get:30 http://archive.ubuntu.com/ubuntu jammy-updates/restricted amd64 nvidia-compute-utils-470 amd64 470.239.06-0ubuntu0.22.04.1 [114 kB]\n",
            "Get:31 http://archive.ubuntu.com/ubuntu jammy-updates/restricted amd64 nvidia-kernel-source-470 amd64 470.239.06-0ubuntu0.22.04.1 [25.8 MB]\n",
            "Get:32 http://archive.ubuntu.com/ubuntu jammy-updates/restricted amd64 nvidia-kernel-common-470 amd64 470.239.06-0ubuntu0.22.04.1 [17.3 MB]\n",
            "Get:33 http://archive.ubuntu.com/ubuntu jammy-updates/restricted amd64 nvidia-dkms-470 amd64 470.239.06-0ubuntu0.22.04.1 [10.4 kB]\n",
            "Get:34 http://archive.ubuntu.com/ubuntu jammy-updates/restricted amd64 nvidia-utils-470 amd64 470.239.06-0ubuntu0.22.04.1 [408 kB]\n",
            "Get:35 http://archive.ubuntu.com/ubuntu jammy/main amd64 x11-xkb-utils amd64 7.7+5build4 [172 kB]\n",
            "Get:36 http://archive.ubuntu.com/ubuntu jammy-updates/main amd64 xserver-common all 2:21.1.4-2ubuntu1.7~22.04.10 [28.5 kB]\n",
            "Get:37 http://archive.ubuntu.com/ubuntu jammy-updates/main amd64 xserver-xorg-core amd64 2:21.1.4-2ubuntu1.7~22.04.10 [1,476 kB]\n",
            "Get:38 http://archive.ubuntu.com/ubuntu jammy-updates/restricted amd64 xserver-xorg-video-nvidia-470 amd64 470.239.06-0ubuntu0.22.04.1 [1,656 kB]\n",
            "Get:39 http://archive.ubuntu.com/ubuntu jammy-updates/restricted amd64 nvidia-driver-470 amd64 470.239.06-0ubuntu0.22.04.1 [453 kB]\n",
            "Get:40 http://archive.ubuntu.com/ubuntu jammy/main amd64 nvidia-prime all 0.8.17.1 [9,956 B]\n",
            "Get:41 http://archive.ubuntu.com/ubuntu jammy/main amd64 python3-xkit all 0.5.0ubuntu5 [18.5 kB]\n",
            "Get:42 http://archive.ubuntu.com/ubuntu jammy/main amd64 screen-resolution-extra all 0.18.2 [4,396 B]\n",
            "Get:43 http://archive.ubuntu.com/ubuntu jammy-updates/main amd64 systemd-hwe-hwdb all 249.11.5 [3,228 B]\n",
            "Get:44 http://archive.ubuntu.com/ubuntu jammy/main amd64 xcvt amd64 0.1.1-3 [7,140 B]\n",
            "Get:45 http://archive.ubuntu.com/ubuntu jammy/main amd64 xfonts-encodings all 1:1.0.5-0ubuntu2 [578 kB]\n",
            "Get:46 http://archive.ubuntu.com/ubuntu jammy/main amd64 xfonts-utils amd64 1:7.7+6build2 [94.6 kB]\n",
            "Get:47 http://archive.ubuntu.com/ubuntu jammy/main amd64 xfonts-base all 1:1.0.5 [5,896 kB]\n",
            "Fetched 286 MB in 8s (38.0 MB/s)\n",
            "Extracting templates from packages: 100%\n",
            "Preconfiguring packages ...\n",
            "Selecting previously unselected package liblocale-gettext-perl.\n",
            "(Reading database ... 121752 files and directories currently installed.)\n",
            "Preparing to unpack .../0-liblocale-gettext-perl_1.07-4build3_amd64.deb ...\n",
            "Unpacking liblocale-gettext-perl (1.07-4build3) ...\n",
            "Selecting previously unselected package keyboard-configuration.\n",
            "Preparing to unpack .../1-keyboard-configuration_1.205ubuntu3_all.deb ...\n",
            "Unpacking keyboard-configuration (1.205ubuntu3) ...\n",
            "Selecting previously unselected package cpp-12.\n",
            "Preparing to unpack .../2-cpp-12_12.3.0-1ubuntu1~22.04_amd64.deb ...\n",
            "Unpacking cpp-12 (12.3.0-1ubuntu1~22.04) ...\n",
            "Selecting previously unselected package libasan8:amd64.\n",
            "Preparing to unpack .../3-libasan8_12.3.0-1ubuntu1~22.04_amd64.deb ...\n",
            "Unpacking libasan8:amd64 (12.3.0-1ubuntu1~22.04) ...\n",
            "Selecting previously unselected package libtsan2:amd64.\n",
            "Preparing to unpack .../4-libtsan2_12.3.0-1ubuntu1~22.04_amd64.deb ...\n",
            "Unpacking libtsan2:amd64 (12.3.0-1ubuntu1~22.04) ...\n",
            "Selecting previously unselected package libgcc-12-dev:amd64.\n",
            "Preparing to unpack .../5-libgcc-12-dev_12.3.0-1ubuntu1~22.04_amd64.deb ...\n",
            "Unpacking libgcc-12-dev:amd64 (12.3.0-1ubuntu1~22.04) ...\n",
            "Selecting previously unselected package gcc-12.\n",
            "Preparing to unpack .../6-gcc-12_12.3.0-1ubuntu1~22.04_amd64.deb ...\n",
            "Unpacking gcc-12 (12.3.0-1ubuntu1~22.04) ...\n",
            "Selecting previously unselected package dctrl-tools.\n",
            "Preparing to unpack .../7-dctrl-tools_2.24-3build2_amd64.deb ...\n",
            "Unpacking dctrl-tools (2.24-3build2) ...\n",
            "Selecting previously unselected package dkms.\n",
            "Preparing to unpack .../8-dkms_2.8.7-2ubuntu2.2_all.deb ...\n",
            "Unpacking dkms (2.8.7-2ubuntu2.2) ...\n",
            "Preparing to unpack .../9-libudev1_249.11-0ubuntu3.12_amd64.deb ...\n",
            "Unpacking libudev1:amd64 (249.11-0ubuntu3.12) over (249.11-0ubuntu3.10) ...\n",
            "Setting up libudev1:amd64 (249.11-0ubuntu3.12) ...\n",
            "Selecting previously unselected package udev.\n",
            "(Reading database ... 122112 files and directories currently installed.)\n",
            "Preparing to unpack .../00-udev_249.11-0ubuntu3.12_amd64.deb ...\n",
            "Unpacking udev (249.11-0ubuntu3.12) ...\n",
            "Selecting previously unselected package libjansson4:amd64.\n",
            "Preparing to unpack .../01-libjansson4_2.13.1-1.1build3_amd64.deb ...\n",
            "Unpacking libjansson4:amd64 (2.13.1-1.1build3) ...\n",
            "Selecting previously unselected package libfakeroot:amd64.\n",
            "Preparing to unpack .../02-libfakeroot_1.28-1ubuntu1_amd64.deb ...\n",
            "Unpacking libfakeroot:amd64 (1.28-1ubuntu1) ...\n",
            "Selecting previously unselected package fakeroot.\n",
            "Preparing to unpack .../03-fakeroot_1.28-1ubuntu1_amd64.deb ...\n",
            "Unpacking fakeroot (1.28-1ubuntu1) ...\n",
            "Selecting previously unselected package libfontenc1:amd64.\n",
            "Preparing to unpack .../04-libfontenc1_1%3a1.1.4-1build3_amd64.deb ...\n",
            "Unpacking libfontenc1:amd64 (1:1.1.4-1build3) ...\n",
            "Selecting previously unselected package libnvidia-cfg1-470:amd64.\n",
            "Preparing to unpack .../05-libnvidia-cfg1-470_470.239.06-0ubuntu0.22.04.1_amd64.deb ...\n",
            "Unpacking libnvidia-cfg1-470:amd64 (470.239.06-0ubuntu0.22.04.1) ...\n",
            "Selecting previously unselected package libnvidia-common-470.\n",
            "Preparing to unpack .../06-libnvidia-common-470_470.239.06-0ubuntu0.22.04.1_all.deb ...\n",
            "Unpacking libnvidia-common-470 (470.239.06-0ubuntu0.22.04.1) ...\n",
            "Selecting previously unselected package libnvidia-compute-470:amd64.\n",
            "Preparing to unpack .../07-libnvidia-compute-470_470.239.06-0ubuntu0.22.04.1_amd64.deb ...\n",
            "Unpacking libnvidia-compute-470:amd64 (470.239.06-0ubuntu0.22.04.1) ...\n",
            "Selecting previously unselected package libnvidia-decode-470:amd64.\n",
            "Preparing to unpack .../08-libnvidia-decode-470_470.239.06-0ubuntu0.22.04.1_amd64.deb ...\n",
            "Unpacking libnvidia-decode-470:amd64 (470.239.06-0ubuntu0.22.04.1) ...\n",
            "Selecting previously unselected package libnvidia-egl-wayland1:amd64.\n",
            "Preparing to unpack .../09-libnvidia-egl-wayland1_1%3a1.1.9-1.1_amd64.deb ...\n",
            "Unpacking libnvidia-egl-wayland1:amd64 (1:1.1.9-1.1) ...\n",
            "Selecting previously unselected package libnvidia-encode-470:amd64.\n",
            "Preparing to unpack .../10-libnvidia-encode-470_470.239.06-0ubuntu0.22.04.1_amd64.deb ...\n",
            "Unpacking libnvidia-encode-470:amd64 (470.239.06-0ubuntu0.22.04.1) ...\n",
            "Selecting previously unselected package libnvidia-extra-470:amd64.\n",
            "Preparing to unpack .../11-libnvidia-extra-470_470.239.06-0ubuntu0.22.04.1_amd64.deb ...\n",
            "Unpacking libnvidia-extra-470:amd64 (470.239.06-0ubuntu0.22.04.1) ...\n",
            "Selecting previously unselected package libnvidia-fbc1-470:amd64.\n",
            "Preparing to unpack .../12-libnvidia-fbc1-470_470.239.06-0ubuntu0.22.04.1_amd64.deb ...\n",
            "Unpacking libnvidia-fbc1-470:amd64 (470.239.06-0ubuntu0.22.04.1) ...\n",
            "Selecting previously unselected package libnvidia-gl-470:amd64.\n",
            "Preparing to unpack .../13-libnvidia-gl-470_470.239.06-0ubuntu0.22.04.1_amd64.deb ...\n",
            "Unpacking libnvidia-gl-470:amd64 (470.239.06-0ubuntu0.22.04.1) ...\n",
            "Selecting previously unselected package libnvidia-ifr1-470:amd64.\n",
            "Preparing to unpack .../14-libnvidia-ifr1-470_470.239.06-0ubuntu0.22.04.1_amd64.deb ...\n",
            "Unpacking libnvidia-ifr1-470:amd64 (470.239.06-0ubuntu0.22.04.1) ...\n",
            "Selecting previously unselected package libxcvt0:amd64.\n",
            "Preparing to unpack .../15-libxcvt0_0.1.1-3_amd64.deb ...\n",
            "Unpacking libxcvt0:amd64 (0.1.1-3) ...\n",
            "Selecting previously unselected package libxfont2:amd64.\n",
            "Preparing to unpack .../16-libxfont2_1%3a2.0.5-1build1_amd64.deb ...\n",
            "Unpacking libxfont2:amd64 (1:2.0.5-1build1) ...\n",
            "Selecting previously unselected package libxkbfile1:amd64.\n",
            "Preparing to unpack .../17-libxkbfile1_1%3a1.1.0-1build3_amd64.deb ...\n",
            "Unpacking libxkbfile1:amd64 (1:1.1.0-1build3) ...\n",
            "Selecting previously unselected package nvidia-compute-utils-470.\n",
            "Preparing to unpack .../18-nvidia-compute-utils-470_470.239.06-0ubuntu0.22.04.1_amd64.deb ...\n",
            "Unpacking nvidia-compute-utils-470 (470.239.06-0ubuntu0.22.04.1) ...\n",
            "Selecting previously unselected package nvidia-kernel-source-470.\n",
            "Preparing to unpack .../19-nvidia-kernel-source-470_470.239.06-0ubuntu0.22.04.1_amd64.deb ...\n",
            "Unpacking nvidia-kernel-source-470 (470.239.06-0ubuntu0.22.04.1) ...\n",
            "Selecting previously unselected package nvidia-kernel-common-470.\n",
            "Preparing to unpack .../20-nvidia-kernel-common-470_470.239.06-0ubuntu0.22.04.1_amd64.deb ...\n",
            "Unpacking nvidia-kernel-common-470 (470.239.06-0ubuntu0.22.04.1) ...\n",
            "Selecting previously unselected package nvidia-dkms-470.\n",
            "Preparing to unpack .../21-nvidia-dkms-470_470.239.06-0ubuntu0.22.04.1_amd64.deb ...\n",
            "Unpacking nvidia-dkms-470 (470.239.06-0ubuntu0.22.04.1) ...\n",
            "Selecting previously unselected package nvidia-utils-470.\n",
            "Preparing to unpack .../22-nvidia-utils-470_470.239.06-0ubuntu0.22.04.1_amd64.deb ...\n",
            "Unpacking nvidia-utils-470 (470.239.06-0ubuntu0.22.04.1) ...\n",
            "Selecting previously unselected package x11-xkb-utils.\n",
            "Preparing to unpack .../23-x11-xkb-utils_7.7+5build4_amd64.deb ...\n",
            "Unpacking x11-xkb-utils (7.7+5build4) ...\n",
            "Selecting previously unselected package xserver-common.\n",
            "Preparing to unpack .../24-xserver-common_2%3a21.1.4-2ubuntu1.7~22.04.10_all.deb ...\n",
            "Unpacking xserver-common (2:21.1.4-2ubuntu1.7~22.04.10) ...\n",
            "Selecting previously unselected package xserver-xorg-core.\n",
            "Preparing to unpack .../25-xserver-xorg-core_2%3a21.1.4-2ubuntu1.7~22.04.10_amd64.deb ...\n",
            "Unpacking xserver-xorg-core (2:21.1.4-2ubuntu1.7~22.04.10) ...\n",
            "Selecting previously unselected package xserver-xorg-video-nvidia-470.\n",
            "Preparing to unpack .../26-xserver-xorg-video-nvidia-470_470.239.06-0ubuntu0.22.04.1_amd64.deb ...\n",
            "Unpacking xserver-xorg-video-nvidia-470 (470.239.06-0ubuntu0.22.04.1) ...\n",
            "Selecting previously unselected package nvidia-driver-470.\n",
            "Preparing to unpack .../27-nvidia-driver-470_470.239.06-0ubuntu0.22.04.1_amd64.deb ...\n",
            "Unpacking nvidia-driver-470 (470.239.06-0ubuntu0.22.04.1) ...\n",
            "Selecting previously unselected package nvidia-prime.\n",
            "Preparing to unpack .../28-nvidia-prime_0.8.17.1_all.deb ...\n",
            "Unpacking nvidia-prime (0.8.17.1) ...\n",
            "Selecting previously unselected package python3-xkit.\n",
            "Preparing to unpack .../29-python3-xkit_0.5.0ubuntu5_all.deb ...\n",
            "Unpacking python3-xkit (0.5.0ubuntu5) ...\n",
            "Selecting previously unselected package screen-resolution-extra.\n",
            "Preparing to unpack .../30-screen-resolution-extra_0.18.2_all.deb ...\n",
            "Unpacking screen-resolution-extra (0.18.2) ...\n",
            "Selecting previously unselected package nvidia-settings.\n",
            "Preparing to unpack .../31-nvidia-settings_550.54.15-0ubuntu1_amd64.deb ...\n",
            "Unpacking nvidia-settings (550.54.15-0ubuntu1) ...\n",
            "Selecting previously unselected package systemd-hwe-hwdb.\n",
            "Preparing to unpack .../32-systemd-hwe-hwdb_249.11.5_all.deb ...\n",
            "Unpacking systemd-hwe-hwdb (249.11.5) ...\n",
            "Selecting previously unselected package xcvt.\n",
            "Preparing to unpack .../33-xcvt_0.1.1-3_amd64.deb ...\n",
            "Unpacking xcvt (0.1.1-3) ...\n",
            "Selecting previously unselected package xfonts-encodings.\n",
            "Preparing to unpack .../34-xfonts-encodings_1%3a1.0.5-0ubuntu2_all.deb ...\n",
            "Unpacking xfonts-encodings (1:1.0.5-0ubuntu2) ...\n",
            "Selecting previously unselected package xfonts-utils.\n",
            "Preparing to unpack .../35-xfonts-utils_1%3a7.7+6build2_amd64.deb ...\n",
            "Unpacking xfonts-utils (1:7.7+6build2) ...\n",
            "Selecting previously unselected package xfonts-base.\n",
            "Preparing to unpack .../36-xfonts-base_1%3a1.0.5_all.deb ...\n",
            "Unpacking xfonts-base (1:1.0.5) ...\n",
            "Setting up nvidia-kernel-source-470 (470.239.06-0ubuntu0.22.04.1) ...\n",
            "Setting up cpp-12 (12.3.0-1ubuntu1~22.04) ...\n",
            "Setting up nvidia-prime (0.8.17.1) ...\n",
            "Setting up libnvidia-compute-470:amd64 (470.239.06-0ubuntu0.22.04.1) ...\n",
            "Setting up libnvidia-extra-470:amd64 (470.239.06-0ubuntu0.22.04.1) ...\n",
            "Setting up nvidia-utils-470 (470.239.06-0ubuntu0.22.04.1) ...\n",
            "Setting up libnvidia-fbc1-470:amd64 (470.239.06-0ubuntu0.22.04.1) ...\n",
            "Setting up nvidia-compute-utils-470 (470.239.06-0ubuntu0.22.04.1) ...\n",
            "Warning: The home dir /nonexistent you specified can't be accessed: No such file or directory\n",
            "Adding system user `nvidia-persistenced' (UID 104) ...\n",
            "Adding new group `nvidia-persistenced' (GID 107) ...\n",
            "Adding new user `nvidia-persistenced' (UID 104) with group `nvidia-persistenced' ...\n",
            "Not creating home directory `/nonexistent'.\n",
            "Setting up libfakeroot:amd64 (1.28-1ubuntu1) ...\n",
            "Setting up libjansson4:amd64 (2.13.1-1.1build3) ...\n",
            "Setting up fakeroot (1.28-1ubuntu1) ...\n",
            "update-alternatives: using /usr/bin/fakeroot-sysv to provide /usr/bin/fakeroot (fakeroot) in auto mode\n",
            "Setting up libnvidia-egl-wayland1:amd64 (1:1.1.9-1.1) ...\n",
            "Setting up libfontenc1:amd64 (1:1.1.4-1build3) ...\n",
            "Setting up libnvidia-cfg1-470:amd64 (470.239.06-0ubuntu0.22.04.1) ...\n",
            "Setting up xfonts-encodings (1:1.0.5-0ubuntu2) ...\n",
            "Setting up udev (249.11-0ubuntu3.12) ...\n",
            "invoke-rc.d: could not determine current runlevel\n",
            "invoke-rc.d: policy-rc.d denied execution of start.\n",
            "Setting up libnvidia-common-470 (470.239.06-0ubuntu0.22.04.1) ...\n",
            "Setting up systemd-hwe-hwdb (249.11.5) ...\n",
            "Setting up nvidia-kernel-common-470 (470.239.06-0ubuntu0.22.04.1) ...\n",
            "Created symlink /etc/systemd/system/systemd-hibernate.service.requires/nvidia-hibernate.service → /lib/systemd/system/nvidia-hibernate.service.\n",
            "Created symlink /etc/systemd/system/systemd-suspend.service.requires/nvidia-resume.service → /lib/systemd/system/nvidia-resume.service.\n",
            "Created symlink /etc/systemd/system/systemd-hibernate.service.requires/nvidia-resume.service → /lib/systemd/system/nvidia-resume.service.\n",
            "Created symlink /etc/systemd/system/systemd-suspend.service.requires/nvidia-suspend.service → /lib/systemd/system/nvidia-suspend.service.\n",
            "Setting up libnvidia-gl-470:amd64 (470.239.06-0ubuntu0.22.04.1) ...\n",
            "Setting up libasan8:amd64 (12.3.0-1ubuntu1~22.04) ...\n",
            "Setting up libxcvt0:amd64 (0.1.1-3) ...\n",
            "Setting up libxkbfile1:amd64 (1:1.1.0-1build3) ...\n",
            "Setting up libtsan2:amd64 (12.3.0-1ubuntu1~22.04) ...\n",
            "Setting up python3-xkit (0.5.0ubuntu5) ...\n",
            "Setting up libxfont2:amd64 (1:2.0.5-1build1) ...\n",
            "Setting up liblocale-gettext-perl (1.07-4build3) ...\n",
            "Setting up dctrl-tools (2.24-3build2) ...\n",
            "Setting up libnvidia-decode-470:amd64 (470.239.06-0ubuntu0.22.04.1) ...\n",
            "Setting up x11-xkb-utils (7.7+5build4) ...\n",
            "Setting up libnvidia-ifr1-470:amd64 (470.239.06-0ubuntu0.22.04.1) ...\n",
            "Setting up xfonts-utils (1:7.7+6build2) ...\n",
            "Setting up xcvt (0.1.1-3) ...\n",
            "Setting up xfonts-base (1:1.0.5) ...\n",
            "Setting up libgcc-12-dev:amd64 (12.3.0-1ubuntu1~22.04) ...\n",
            "Setting up libnvidia-encode-470:amd64 (470.239.06-0ubuntu0.22.04.1) ...\n",
            "Setting up screen-resolution-extra (0.18.2) ...\n",
            "Setting up nvidia-settings (550.54.15-0ubuntu1) ...\n",
            "Setting up xserver-common (2:21.1.4-2ubuntu1.7~22.04.10) ...\n",
            "Setting up keyboard-configuration (1.205ubuntu3) ...\n",
            "Your console font configuration will be updated the next time your system\n",
            "boots. If you want to update it now, run 'setupcon' from a virtual console.\n",
            "Setting up xserver-xorg-core (2:21.1.4-2ubuntu1.7~22.04.10) ...\n",
            "Setting up gcc-12 (12.3.0-1ubuntu1~22.04) ...\n",
            "Setting up xserver-xorg-video-nvidia-470 (470.239.06-0ubuntu0.22.04.1) ...\n",
            "Setting up dkms (2.8.7-2ubuntu2.2) ...\n",
            "Setting up nvidia-dkms-470 (470.239.06-0ubuntu0.22.04.1) ...\n",
            "Loading new nvidia-470.239.06 DKMS files...\n",
            "It is likely that 6.1.58+ belongs to a chroot's host\n",
            "Building for 5.15.0-105-generic\n",
            "Building for architecture x86_64\n",
            "Building initial module for 5.15.0-105-generic\n",
            "Done.\n",
            "\n",
            "nvidia.ko:\n",
            "Running module version sanity check.\n",
            " - Original module\n",
            "   - No original module exists within this kernel\n",
            " - Installation\n",
            "   - Installing to /lib/modules/5.15.0-105-generic/updates/dkms/\n",
            "\n",
            "nvidia-modeset.ko:\n",
            "Running module version sanity check.\n",
            " - Original module\n",
            "   - No original module exists within this kernel\n",
            " - Installation\n",
            "   - Installing to /lib/modules/5.15.0-105-generic/updates/dkms/\n",
            "\n",
            "nvidia-drm.ko:\n",
            "Running module version sanity check.\n",
            " - Original module\n",
            "   - No original module exists within this kernel\n",
            " - Installation\n",
            "   - Installing to /lib/modules/5.15.0-105-generic/updates/dkms/\n",
            "\n",
            "nvidia-uvm.ko:\n",
            "Running module version sanity check.\n",
            " - Original module\n",
            "   - No original module exists within this kernel\n",
            " - Installation\n",
            "   - Installing to /lib/modules/5.15.0-105-generic/updates/dkms/\n",
            "\n",
            "nvidia-peermem.ko:\n",
            "Running module version sanity check.\n",
            " - Original module\n",
            "   - No original module exists within this kernel\n",
            " - Installation\n",
            "   - Installing to /lib/modules/5.15.0-105-generic/updates/dkms/\n",
            "\n",
            "depmod...\n",
            "Setting up nvidia-driver-470 (470.239.06-0ubuntu0.22.04.1) ...\n",
            "Processing triggers for libc-bin (2.35-0ubuntu3.4) ...\n",
            "/sbin/ldconfig.real: /usr/local/lib/libtbbbind_2_5.so.3 is not a symbolic link\n",
            "\n",
            "/sbin/ldconfig.real: /usr/local/lib/libtbbmalloc_proxy.so.2 is not a symbolic link\n",
            "\n",
            "/sbin/ldconfig.real: /usr/local/lib/libtbb.so.12 is not a symbolic link\n",
            "\n",
            "/sbin/ldconfig.real: /usr/local/lib/libtbbbind_2_0.so.3 is not a symbolic link\n",
            "\n",
            "/sbin/ldconfig.real: /usr/local/lib/libtbbbind.so.3 is not a symbolic link\n",
            "\n",
            "/sbin/ldconfig.real: /usr/local/lib/libtbbmalloc.so.2 is not a symbolic link\n",
            "\n",
            "Processing triggers for man-db (2.10.2-1) ...\n",
            "Processing triggers for fontconfig (2.13.1-4.2ubuntu5) ...\n"
          ]
        }
      ],
      "source": [
        "!apt-get update\n",
        "!apt-get install nvidia-driver-470"
      ]
    },
    {
      "cell_type": "code",
      "execution_count": null,
      "id": "nL0JfMi9MGWM",
      "metadata": {
        "colab": {
          "base_uri": "https://localhost:8080/"
        },
        "id": "nL0JfMi9MGWM",
        "outputId": "736cb49e-d7bc-4c99-9139-8e4c7f23d618"
      },
      "outputs": [
        {
          "output_type": "stream",
          "name": "stdout",
          "text": [
            "Sat May  4 08:15:15 2024       \n",
            "+---------------------------------------------------------------------------------------+\n",
            "| NVIDIA-SMI 535.104.05             Driver Version: 535.104.05   CUDA Version: 12.2     |\n",
            "|-----------------------------------------+----------------------+----------------------+\n",
            "| GPU  Name                 Persistence-M | Bus-Id        Disp.A | Volatile Uncorr. ECC |\n",
            "| Fan  Temp   Perf          Pwr:Usage/Cap |         Memory-Usage | GPU-Util  Compute M. |\n",
            "|                                         |                      |               MIG M. |\n",
            "|=========================================+======================+======================|\n",
            "|   0  Tesla T4                       Off | 00000000:00:04.0 Off |                    0 |\n",
            "| N/A   46C    P8               9W /  70W |      0MiB / 15360MiB |      0%      Default |\n",
            "|                                         |                      |                  N/A |\n",
            "+-----------------------------------------+----------------------+----------------------+\n",
            "                                                                                         \n",
            "+---------------------------------------------------------------------------------------+\n",
            "| Processes:                                                                            |\n",
            "|  GPU   GI   CI        PID   Type   Process name                            GPU Memory |\n",
            "|        ID   ID                                                             Usage      |\n",
            "|=======================================================================================|\n",
            "|  No running processes found                                                           |\n",
            "+---------------------------------------------------------------------------------------+\n"
          ]
        }
      ],
      "source": [
        "!nvidia-smi"
      ]
    },
    {
      "cell_type": "code",
      "execution_count": null,
      "id": "MRhN0y3DN4LX",
      "metadata": {
        "colab": {
          "base_uri": "https://localhost:8080/"
        },
        "id": "MRhN0y3DN4LX",
        "outputId": "a1f63121-3d8a-4065-823c-053e96e5624c"
      },
      "outputs": [
        {
          "output_type": "stream",
          "name": "stdout",
          "text": [
            "Requirement already satisfied: dlib in /usr/local/lib/python3.10/dist-packages (19.24.4)\n"
          ]
        }
      ],
      "source": [
        "!pip install dlib"
      ]
    },
    {
      "cell_type": "code",
      "execution_count": null,
      "id": "tbLRfvrgN92E",
      "metadata": {
        "colab": {
          "base_uri": "https://localhost:8080/"
        },
        "id": "tbLRfvrgN92E",
        "outputId": "51d1f99f-5a6c-4ba4-baa5-3679929268a2"
      },
      "outputs": [
        {
          "output_type": "stream",
          "name": "stdout",
          "text": [
            "Collecting face_recognition\n",
            "  Downloading face_recognition-1.3.0-py2.py3-none-any.whl (15 kB)\n",
            "Collecting face-recognition-models>=0.3.0 (from face_recognition)\n",
            "  Downloading face_recognition_models-0.3.0.tar.gz (100.1 MB)\n",
            "\u001b[2K     \u001b[90m━━━━━━━━━━━━━━━━━━━━━━━━━━━━━━━━━━━━━━━━\u001b[0m \u001b[32m100.1/100.1 MB\u001b[0m \u001b[31m8.6 MB/s\u001b[0m eta \u001b[36m0:00:00\u001b[0m\n",
            "\u001b[?25h  Preparing metadata (setup.py) ... \u001b[?25l\u001b[?25hdone\n",
            "Requirement already satisfied: Click>=6.0 in /usr/local/lib/python3.10/dist-packages (from face_recognition) (8.1.7)\n",
            "Requirement already satisfied: dlib>=19.7 in /usr/local/lib/python3.10/dist-packages (from face_recognition) (19.24.4)\n",
            "Requirement already satisfied: numpy in /usr/local/lib/python3.10/dist-packages (from face_recognition) (1.25.2)\n",
            "Requirement already satisfied: Pillow in /usr/local/lib/python3.10/dist-packages (from face_recognition) (9.4.0)\n",
            "Building wheels for collected packages: face-recognition-models\n",
            "  Building wheel for face-recognition-models (setup.py) ... \u001b[?25l\u001b[?25hdone\n",
            "  Created wheel for face-recognition-models: filename=face_recognition_models-0.3.0-py2.py3-none-any.whl size=100566170 sha256=70bbd7628e13c52b061f7cbd191f954bcb0b2707bb6dfef82cf4151d12e91716\n",
            "  Stored in directory: /root/.cache/pip/wheels/7a/eb/cf/e9eced74122b679557f597bb7c8e4c739cfcac526db1fd523d\n",
            "Successfully built face-recognition-models\n",
            "Installing collected packages: face-recognition-models, face_recognition\n",
            "Successfully installed face-recognition-models-0.3.0 face_recognition-1.3.0\n"
          ]
        }
      ],
      "source": [
        "!pip install face_recognition"
      ]
    },
    {
      "cell_type": "code",
      "source": [
        "import cv2\n",
        "import numpy as np\n",
        "import face_recognition\n",
        "import os\n",
        "from datetime import datetime"
      ],
      "metadata": {
        "id": "Wz2tc3OgbG4Z"
      },
      "id": "Wz2tc3OgbG4Z",
      "execution_count": null,
      "outputs": []
    },
    {
      "cell_type": "code",
      "source": [
        "from google.colab import drive\n",
        "drive.mount('/content/drive')"
      ],
      "metadata": {
        "colab": {
          "base_uri": "https://localhost:8080/"
        },
        "id": "23KvJMnldOAo",
        "outputId": "1c305354-b81c-4eda-98ac-e135c2bcb88b"
      },
      "id": "23KvJMnldOAo",
      "execution_count": null,
      "outputs": [
        {
          "output_type": "stream",
          "name": "stdout",
          "text": [
            "Mounted at /content/drive\n"
          ]
        }
      ]
    },
    {
      "cell_type": "code",
      "source": [
        "path = '/content/drive/MyDrive/Attendance images'\n",
        "images = []\n",
        "classNames = []\n",
        "myList = os.listdir(path)\n",
        "print(myList)\n",
        "for cl in myList:\n",
        "    curImg = cv2.imread(f'{path}/{cl}')\n",
        "    images.append(curImg)\n",
        "    classNames.append(os.path.splitext(cl)[0])\n",
        "print(classNames)"
      ],
      "metadata": {
        "colab": {
          "base_uri": "https://localhost:8080/"
        },
        "id": "gY8cgj9rdy0M",
        "outputId": "04d5cdd4-4442-42a2-ca06-730c0eabfb06"
      },
      "id": "gY8cgj9rdy0M",
      "execution_count": null,
      "outputs": [
        {
          "output_type": "stream",
          "name": "stdout",
          "text": [
            "['Model_4.jpg', 'Model_2.jpg', 'Model_3.jpg']\n",
            "['Model_4', 'Model_2', 'Model_3']\n"
          ]
        }
      ]
    },
    {
      "cell_type": "code",
      "source": [
        "def findEncodings(images):\n",
        "    encodeList = []\n",
        "\n",
        "\n",
        "    for img in images:\n",
        "        img = cv2.cvtColor(img, cv2.COLOR_BGR2RGB)\n",
        "        encode = face_recognition.face_encodings(img)[0]\n",
        "        encodeList.append(encode)\n",
        "    return encodeList"
      ],
      "metadata": {
        "id": "K1OiP9yMeHHk"
      },
      "id": "K1OiP9yMeHHk",
      "execution_count": null,
      "outputs": []
    },
    {
      "cell_type": "code",
      "source": [
        "def markAttendance(name):\n",
        "    with open('Attendance.csv', 'r+') as f:\n",
        "        myDataList = f.readlines()\n",
        "\n",
        "\n",
        "        nameList = []\n",
        "        for line in myDataList:\n",
        "            entry = line.split(',')\n",
        "            nameList.append(entry[0])\n",
        "            if name not in nameList:\n",
        "                now = datetime.now()\n",
        "                dtString = now.strftime(\"%m/%d/%Y,%H:%M:%S\")\n",
        "                f.writelines(f'\\n{name},{dtString}')"
      ],
      "metadata": {
        "id": "gxG0hei9eKvn"
      },
      "id": "gxG0hei9eKvn",
      "execution_count": null,
      "outputs": []
    },
    {
      "cell_type": "code",
      "source": [
        "encodeListKnown = findEncodings(images)\n",
        "print('Encoding Complete')"
      ],
      "metadata": {
        "colab": {
          "base_uri": "https://localhost:8080/"
        },
        "id": "7gtdw1TUeQAP",
        "outputId": "1d0429a7-1d3c-4a8c-b3f7-a354d57f5575"
      },
      "id": "7gtdw1TUeQAP",
      "execution_count": null,
      "outputs": [
        {
          "output_type": "stream",
          "name": "stdout",
          "text": [
            "Encoding Complete\n"
          ]
        }
      ]
    },
    {
      "cell_type": "code",
      "source": [
        "cap = cv2.VideoCapture(0)"
      ],
      "metadata": {
        "id": "Kwk1eZydeUuX"
      },
      "id": "Kwk1eZydeUuX",
      "execution_count": null,
      "outputs": []
    },
    {
      "cell_type": "code",
      "source": [
        "while True:\n",
        "    success, img = cap.read()\n",
        "\n",
        "    imgS = cv2.resize(img, (0,0), None, 0.25, 0.25)\n",
        "    imgS = cv2.cvtColor(imgS, cv2.COLOR_BGR2RGB)\n",
        "\n",
        "    facesCurFrame = face_recognition.face_locations(imgS)\n",
        "    encodesCurFrame = face_recognition.face_encodings(imgS, facesCurFrame)\n",
        "\n",
        "    for encodeFace, faceLoc in zip(encodesCurFrame, facesCurFrame):\n",
        "        matches = face_recognition.compare_faces(encodeListKnown, encodeFace)\n",
        "        faceDis = face_recognition.face_distance(encodeListKnown, encodeFace)\n",
        "\n",
        "        matchIndex = np.argmin(faceDis)\n",
        "\n",
        "        if matches[matchIndex]:\n",
        "            name = classNames[matchIndex].upper()\n",
        "\n",
        "            y1, x2, y2, x1 = faceLoc\n",
        "            y1, x2, y2, x1 = y1 * 4, x2 * 4, y2 * 4, x1 * 4\n",
        "            cv2.rectangle(img, (x1, y1), (x2, y2), (0, 255, 0), 2)\n",
        "            cv2.rectangle(img, (x1, y2 - 35), (x2, y2), (0, 255, 0), cv2.FILLED)\n",
        "            cv2.putText(img, name, (x1 + 6, y2 - 6), cv2.FONT_HERSHEY_COMPLEX, 1, (255, 255, 255), 2)\n",
        "            markAttendance(na)\n",
        "    cv2.imshow('Webcam', img)\n",
        "    cv2.waitKey(1)"
      ],
      "metadata": {
        "id": "SN7IRYvbeX-V"
      },
      "id": "SN7IRYvbeX-V",
      "execution_count": null,
      "outputs": []
    }
  ],
  "metadata": {
    "accelerator": "GPU",
    "colab": {
      "gpuType": "T4",
      "provenance": []
    },
    "kernelspec": {
      "display_name": "Python 3",
      "name": "python3"
    },
    "language_info": {
      "codemirror_mode": {
        "name": "ipython",
        "version": 3
      },
      "file_extension": ".py",
      "mimetype": "text/x-python",
      "name": "python",
      "nbconvert_exporter": "python",
      "pygments_lexer": "ipython3",
      "version": "3.11.5"
    }
  },
  "nbformat": 4,
  "nbformat_minor": 5
}